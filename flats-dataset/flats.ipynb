{
 "cells": [
  {
   "cell_type": "markdown",
   "metadata": {},
   "source": [
    "# Модели прогнозирования цен квартир\n",
    "\n",
    "1. На основе количества метров\n",
    "2. На основе расстояния до метро\n",
    "3. С учётом квадратных метров и расстояния до метро\n",
    "\n",
    "\n",
    "Для первых двух моделей на графиках отображены исходные и прогнозные значения.\n",
    "\n",
    "Исходные и прогнозные значения сравниваются при помощи следующих характеристик качества:\n",
    "\n",
    "- Средняя абсолютная ошибка прогноза (MAE)\n",
    "- Среднеквадратическое отклонение (RMSE)\n",
    "- Средний процент ошибки (MPE)\n",
    "- Средняя относительная ошибка (MAPE)\n",
    "- Абсолютное отклонение от среднего (AD)\n",
    "- Среднее абсолютное отклонение (MAD)\n",
    "- Коэффициент детерминации (R2)\n",
    "- Коэффициент несоответствия Тейла (Theil Index)"
   ]
  },
  {
   "cell_type": "code",
   "execution_count": 1,
   "metadata": {},
   "outputs": [
    {
     "data": {
      "text/html": [
       "<div>\n",
       "<style scoped>\n",
       "    .dataframe tbody tr th:only-of-type {\n",
       "        vertical-align: middle;\n",
       "    }\n",
       "\n",
       "    .dataframe tbody tr th {\n",
       "        vertical-align: top;\n",
       "    }\n",
       "\n",
       "    .dataframe thead th {\n",
       "        text-align: right;\n",
       "    }\n",
       "</style>\n",
       "<table border=\"1\" class=\"dataframe\">\n",
       "  <thead>\n",
       "    <tr style=\"text-align: right;\">\n",
       "      <th></th>\n",
       "      <th>area</th>\n",
       "      <th>metroDistance</th>\n",
       "      <th>price</th>\n",
       "    </tr>\n",
       "  </thead>\n",
       "  <tbody>\n",
       "    <tr>\n",
       "      <th>0</th>\n",
       "      <td>28</td>\n",
       "      <td>677</td>\n",
       "      <td>7328400</td>\n",
       "    </tr>\n",
       "    <tr>\n",
       "      <th>1</th>\n",
       "      <td>54</td>\n",
       "      <td>120</td>\n",
       "      <td>9754600</td>\n",
       "    </tr>\n",
       "    <tr>\n",
       "      <th>2</th>\n",
       "      <td>43</td>\n",
       "      <td>1344</td>\n",
       "      <td>6781500</td>\n",
       "    </tr>\n",
       "    <tr>\n",
       "      <th>3</th>\n",
       "      <td>33</td>\n",
       "      <td>1003</td>\n",
       "      <td>6784100</td>\n",
       "    </tr>\n",
       "    <tr>\n",
       "      <th>4</th>\n",
       "      <td>30</td>\n",
       "      <td>591</td>\n",
       "      <td>7296200</td>\n",
       "    </tr>\n",
       "    <tr>\n",
       "      <th>5</th>\n",
       "      <td>45</td>\n",
       "      <td>719</td>\n",
       "      <td>8121900</td>\n",
       "    </tr>\n",
       "    <tr>\n",
       "      <th>6</th>\n",
       "      <td>55</td>\n",
       "      <td>406</td>\n",
       "      <td>8889400</td>\n",
       "    </tr>\n",
       "    <tr>\n",
       "      <th>7</th>\n",
       "      <td>63</td>\n",
       "      <td>216</td>\n",
       "      <td>9819000</td>\n",
       "    </tr>\n",
       "    <tr>\n",
       "      <th>8</th>\n",
       "      <td>27</td>\n",
       "      <td>2497</td>\n",
       "      <td>3924500</td>\n",
       "    </tr>\n",
       "    <tr>\n",
       "      <th>9</th>\n",
       "      <td>63</td>\n",
       "      <td>431</td>\n",
       "      <td>9642200</td>\n",
       "    </tr>\n",
       "  </tbody>\n",
       "</table>\n",
       "</div>"
      ],
      "text/plain": [
       "   area  metroDistance    price\n",
       "0    28            677  7328400\n",
       "1    54            120  9754600\n",
       "2    43           1344  6781500\n",
       "3    33           1003  6784100\n",
       "4    30            591  7296200\n",
       "5    45            719  8121900\n",
       "6    55            406  8889400\n",
       "7    63            216  9819000\n",
       "8    27           2497  3924500\n",
       "9    63            431  9642200"
      ]
     },
     "execution_count": 1,
     "metadata": {},
     "output_type": "execute_result"
    }
   ],
   "source": [
    "import pandas as pd\n",
    "df = pd.read_csv(\"flats.csv\", delimiter=\";\")\n",
    "df.head(10)"
   ]
  },
  {
   "cell_type": "code",
   "execution_count": 35,
   "metadata": {},
   "outputs": [],
   "source": [
    "from math import sqrt\n",
    "\n",
    "def getModelRatings(model, y):\n",
    "    f = model.predict()\n",
    "    res = {}\n",
    "    res['MAE'] = sum(abs(yi - fi) for yi, fi in zip(y, f)) / len(y)\n",
    "    res['RMSE'] = sqrt(sum((yi - fi)**2 for yi, fi in zip(y, f)) / len(y))\n",
    "    res['MPE'] = sum((yi - fi)/yi for yi, fi in zip(y, f)) / len(y) * 100\n",
    "    res['MAPE'] = sum(abs(yi - fi)/yi for yi, fi in zip(y, f)) / len(y) * 100\n",
    "    yAv = sum(y)/len(y)\n",
    "    res['AD'] = sum(abs(fi - yAv) for fi in f)\n",
    "    res['MAD'] = res['AD']/len(y)\n",
    "    res['R2'] = sum((fi - yAv)**2 for fi in f) / sum((yi - yAv)**2 for yi in y)\n",
    "    res['Theil'] = sqrt(sum((yi - fi)**2 for yi, fi in zip(y,f)) / (sum(yi**2 for yi in y) + sum(fi**2 for fi in f)))\n",
    "        \n",
    "    return res"
   ]
  },
  {
   "cell_type": "code",
   "execution_count": 36,
   "metadata": {},
   "outputs": [
    {
     "data": {
      "image/png": "[encoded data removed]",
      "text/plain": [
       "<Figure size 864x432 with 1 Axes>"
      ]
     },
     "metadata": {
      "needs_background": "light"
     },
     "output_type": "display_data"
    },
    {
     "name": "stdout",
     "output_type": "stream",
     "text": [
      "Метрики качества для предсказания цен квартир на основе их площади:\n",
      "  MAE: 990261.94\n",
      "  RMSE: 1141985.13\n",
      "  MPE: -3.30\n",
      "  MAPE: 15.69\n",
      "  AD: 91939101.21\n",
      "  MAD: 919391.01\n",
      "  R2: 0.45\n",
      "  Theil: 0.12\n"
     ]
    }
   ],
   "source": [
    "import statsmodels.formula.api as smf\n",
    "import numpy as np\n",
    "from matplotlib import pyplot as plt\n",
    "\n",
    "# Предсказание цен квартир на основе их площади\n",
    "\n",
    "model = smf.ols('price ~ area', data=df)\n",
    "model = model.fit()\n",
    "pricePrediction = model.predict()\n",
    "\n",
    "plt.figure(figsize=(12, 6))\n",
    "plt.plot(df['area'], df['price'], 'o')\n",
    "plt.plot(df['area'], pricePrediction, 'r', linewidth=2)\n",
    "plt.xlabel('Площади квартир')\n",
    "plt.ylabel('Цены квартир')\n",
    "plt.title('Предсказание цен квартир на основе их площади')\n",
    "\n",
    "plt.show()\n",
    "\n",
    "y = np.array(df['price'])\n",
    "res1 = getModelRatings(model, y)\n",
    "print('Метрики качества для предсказания цен квартир на основе их площади:')\n",
    "for k, v in res1.items():\n",
    "    print(f\"  {k:s}: {v:.2f}\")"
   ]
  },
  {
   "cell_type": "code",
   "execution_count": 38,
   "metadata": {},
   "outputs": [
    {
     "data": {
      "image/png": "[encoded data removed]",
      "text/plain": [
       "<Figure size 864x432 with 1 Axes>"
      ]
     },
     "metadata": {
      "needs_background": "light"
     },
     "output_type": "display_data"
    },
    {
     "name": "stdout",
     "output_type": "stream",
     "text": [
      "Метрики качества для предсказания цен квартир на основе расстояния от них до метро:\n",
      "  MAE: 870605.16\n",
      "  RMSE: 1002814.03\n",
      "  MPE: -2.57\n",
      "  MAPE: 13.78\n",
      "  AD: 101989176.67\n",
      "  MAD: 1019891.77\n",
      "  R2: 0.58\n",
      "  Theil: 0.10\n"
     ]
    }
   ],
   "source": [
    "# Предсказание цен квартир на основе расстояния от них до метро\n",
    "\n",
    "model = smf.ols('price ~ metroDistance', data=df)\n",
    "model = model.fit()\n",
    "pricePrediction = model.predict()\n",
    "\n",
    "plt.figure(figsize=(12, 6))\n",
    "plt.plot(df['metroDistance'], df['price'], 'o')\n",
    "plt.plot(df['metroDistance'], pricePrediction, 'r', linewidth=2)\n",
    "plt.xlabel('Расстояния от квартир до метро')\n",
    "plt.ylabel('Цены квартир')\n",
    "plt.title('Предсказание цен квартир на основе расстояния от них до метро')\n",
    "\n",
    "plt.show()\n",
    "\n",
    "y = np.array(df['price'])\n",
    "res2 = getModelRatings(model, y)\n",
    "print('Метрики качества для предсказания цен квартир на основе расстояния от них до метро:')\n",
    "for k, v in res2.items():\n",
    "    print(f\"  {k:s}: {v:.2f}\")"
   ]
  },
  {
   "cell_type": "code",
   "execution_count": 40,
   "metadata": {},
   "outputs": [
    {
     "name": "stdout",
     "output_type": "stream",
     "text": [
      "Метрики качества для предсказания цен квартир на основе и расстояния, и площади:\n",
      "  MAE: 188069.84\n",
      "  RMSE: 231660.84\n",
      "  MPE: -0.13\n",
      "  MAPE: 2.85\n",
      "  AD: 121653918.61\n",
      "  MAD: 1216539.19\n",
      "  R2: 0.98\n",
      "  Theil: 0.02\n"
     ]
    }
   ],
   "source": [
    "# Предсказание цен квартир на основе и расстояния, и площади\n",
    "\n",
    "model = smf.ols('price ~ metroDistance + area', data=df)\n",
    "model = model.fit()\n",
    "pricePrediction = model.predict()\n",
    "\n",
    "y = np.array(df['price'])\n",
    "res3 = getModelRatings(model, y)\n",
    "print('Метрики качества для предсказания цен квартир на основе и расстояния, и площади:')\n",
    "for k, v in res3.items():\n",
    "    print(f\"  {k:s}: {v:.2f}\")"
   ]
  },
  {
   "cell_type": "code",
   "execution_count": null,
   "metadata": {},
   "outputs": [],
   "source": []
  }
 ],
 "metadata": {
  "kernelspec": {
   "display_name": "Python 3",
   "language": "python",
   "name": "python3"
  },
  "language_info": {
   "codemirror_mode": {
    "name": "ipython",
    "version": 3
   },
   "file_extension": ".py",
   "mimetype": "text/x-python",
   "name": "python",
   "nbconvert_exporter": "python",
   "pygments_lexer": "ipython3",
   "version": "3.7.3"
  }
 },
 "nbformat": 4,
 "nbformat_minor": 2
}
